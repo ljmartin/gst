{
 "cells": [
  {
   "cell_type": "code",
   "execution_count": 1,
   "metadata": {},
   "outputs": [
    {
     "ename": "ModuleNotFoundError",
     "evalue": "No module named 'metadynamics'",
     "output_type": "error",
     "traceback": [
      "\u001b[0;31m---------------------------------------------------------------------------\u001b[0m",
      "\u001b[0;31mModuleNotFoundError\u001b[0m                       Traceback (most recent call last)",
      "\u001b[0;32m<ipython-input-1-9b0f89b9629d>\u001b[0m in \u001b[0;36m<module>\u001b[0;34m\u001b[0m\n\u001b[1;32m      2\u001b[0m \u001b[0;32mfrom\u001b[0m \u001b[0msimtk\u001b[0m\u001b[0;34m.\u001b[0m\u001b[0mopenmm\u001b[0m\u001b[0;34m.\u001b[0m\u001b[0mapp\u001b[0m \u001b[0;32mimport\u001b[0m \u001b[0;34m*\u001b[0m\u001b[0;34m\u001b[0m\u001b[0;34m\u001b[0m\u001b[0m\n\u001b[1;32m      3\u001b[0m \u001b[0;32mfrom\u001b[0m \u001b[0msimtk\u001b[0m\u001b[0;34m.\u001b[0m\u001b[0munit\u001b[0m \u001b[0;32mimport\u001b[0m \u001b[0;34m*\u001b[0m\u001b[0;34m\u001b[0m\u001b[0;34m\u001b[0m\u001b[0m\n\u001b[0;32m----> 4\u001b[0;31m \u001b[0;32mfrom\u001b[0m \u001b[0mmetadynamics\u001b[0m \u001b[0;32mimport\u001b[0m \u001b[0;34m*\u001b[0m\u001b[0;34m\u001b[0m\u001b[0;34m\u001b[0m\u001b[0m\n\u001b[0m\u001b[1;32m      5\u001b[0m \u001b[0;32mimport\u001b[0m \u001b[0mmatplotlib\u001b[0m\u001b[0;34m.\u001b[0m\u001b[0mpyplot\u001b[0m \u001b[0;32mas\u001b[0m \u001b[0mplot\u001b[0m\u001b[0;34m\u001b[0m\u001b[0;34m\u001b[0m\u001b[0m\n\u001b[1;32m      6\u001b[0m \u001b[0;34m\u001b[0m\u001b[0m\n",
      "\u001b[0;31mModuleNotFoundError\u001b[0m: No module named 'metadynamics'"
     ]
    }
   ],
   "source": [
    "from simtk.openmm import *\n",
    "from simtk.openmm.app import *\n",
    "from simtk.unit import *\n",
    "from metadynamics import *\n",
    "import matplotlib.pyplot as plot\n",
    "\n",
    "# Create a System for alanine dipeptide in water.\n",
    "\n",
    "pdb = PDBFile('alanine-dipeptide-implicit.pdb')\n",
    "forcefield = ForceField('amber14-all.xml', 'amber14/spce.xml')\n",
    "system = forcefield.createSystem(pdb.topology, nonbondedMethod=PME, constraints=HBonds)\n",
    "\n",
    "# Define collective variables for phi and psi.\n",
    "\n",
    "cv1 = CustomTorsionForce('theta')\n",
    "cv1.addTorsion(1, 6, 8, 14)\n",
    "phi = BiasVariable(cv1, -np.pi, np.pi, 0.5, True)\n",
    "cv2 = CustomTorsionForce('theta')\n",
    "cv2.addTorsion(6, 8, 14, 16)\n",
    "psi = BiasVariable(cv2, -np.pi, np.pi, 0.5, True)\n",
    "\n",
    "# Set up the simulation.\n",
    "\n",
    "meta = Metadynamics(system, [phi, psi], 300.0*kelvin, 1000.0*kelvin, 1.0*kilojoules_per_mole, 100)\n",
    "integrator = LangevinIntegrator(300*kelvin, 1.0/picosecond, 0.002*picoseconds)\n",
    "simulation = Simulation(pdb.topology, system, integrator)\n",
    "simulation.context.setPositions(pdb.positions)\n",
    "\n",
    "# Run the simulation and plot the free energy landscape.\n",
    "\n",
    "meta.step(simulation, 50000)\n",
    "plot.imshow(meta.getFreeEnergy())\n",
    "plot.show()"
   ]
  },
  {
   "cell_type": "code",
   "execution_count": null,
   "metadata": {},
   "outputs": [],
   "source": []
  }
 ],
 "metadata": {
  "kernelspec": {
   "display_name": "Python 3",
   "language": "python",
   "name": "python3"
  },
  "language_info": {
   "codemirror_mode": {
    "name": "ipython",
    "version": 3
   },
   "file_extension": ".py",
   "mimetype": "text/x-python",
   "name": "python",
   "nbconvert_exporter": "python",
   "pygments_lexer": "ipython3",
   "version": "3.7.6"
  }
 },
 "nbformat": 4,
 "nbformat_minor": 4
}
